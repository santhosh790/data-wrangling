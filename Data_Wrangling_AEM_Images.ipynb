{
  "nbformat": 4,
  "nbformat_minor": 0,
  "metadata": {
    "colab": {
      "name": "Data Wrangling - AEM Images.ipynb",
      "version": "0.3.2",
      "provenance": [],
      "include_colab_link": true
    },
    "kernelspec": {
      "name": "python3",
      "display_name": "Python 3"
    }
  },
  "cells": [
    {
      "cell_type": "markdown",
      "metadata": {
        "id": "view-in-github",
        "colab_type": "text"
      },
      "source": [
        "<a href=\"https://colab.research.google.com/github/santhosh790/data-wrangling/blob/master/Data_Wrangling_AEM_Images.ipynb\" target=\"_parent\"><img src=\"https://colab.research.google.com/assets/colab-badge.svg\" alt=\"Open In Colab\"/></a>"
      ]
    },
    {
      "metadata": {
        "id": "RWhUUZsp3n9U",
        "colab_type": "text"
      },
      "cell_type": "markdown",
      "source": [
        "**Data Wrangling of AEM Images:**\n",
        "\n",
        "Data wrangling is transforming the 'raw' data into another format (Structured/Unstructured) to enable the data analysis process. The 'raw' data could come from one or more sources.\n",
        "\n",
        "In this notebook, the aim is to collect set of images from AEM (Adobe Experience Manager) server and store in Google Drive.\n",
        "\n",
        "Steps: \n",
        "\n",
        "\n",
        "1. Connecting to AEM\n",
        "2. Downloading to Images\n",
        "3. Connecting to Google Drive\n",
        "4. Create Folder and Storing images in Team Drive\n",
        "5. Main function to Download All images\n"
      ]
    },
    {
      "metadata": {
        "id": "845PGdRr6Bid",
        "colab_type": "text"
      },
      "cell_type": "markdown",
      "source": [
        "**1. Connecting to AEM**"
      ]
    },
    {
      "metadata": {
        "id": "F6z3xsWh6LXr",
        "colab_type": "code",
        "colab": {}
      },
      "cell_type": "code",
      "source": [
        "#Importing the required Packages for AEM Connection#\n",
        "import urllib\n",
        "import urllib.parse\n",
        "import urllib.request\n",
        "import base64\n",
        "import json\n",
        "import logging\n",
        "import os"
      ],
      "execution_count": 0,
      "outputs": []
    },
    {
      "metadata": {
        "id": "PSZ6CVt_6VXy",
        "colab_type": "code",
        "colab": {}
      },
      "cell_type": "code",
      "source": [
        "def connectAuthorised(url, credentials):\n",
        "     auth_header_userpass = \"Basic \"+base64.standard_b64encode(credentials.encode('ascii')).decode('ascii')\n",
        "     auth_header = { 'Authorization ' : auth_header_userpass }\n",
        "     req = urllib.request.Request(url, None, auth_header)"
      ],
      "execution_count": 0,
      "outputs": []
    },
    {
      "metadata": {
        "id": "YRO5TMqM7g5t",
        "colab_type": "text"
      },
      "cell_type": "markdown",
      "source": [
        "**2. Download Images**"
      ]
    },
    {
      "metadata": {
        "id": "Ikka6H_O6cyh",
        "colab_type": "code",
        "colab": {}
      },
      "cell_type": "code",
      "source": [
        "def readAEMData(url, credentials):\n",
        "    req = connectAuthorised(url, credentials)\n",
        "    try:\n",
        "        with urllib.request.urlopen(req) as response:\n",
        "            Data=response.read()     \n",
        "            return Data \n",
        "    except urllib.error.HTTPError as e:   \n",
        "       writeToFile(errorFile,\"Error in downloading:\"+url) \n",
        "    return {}"
      ],
      "execution_count": 0,
      "outputs": []
    },
    {
      "metadata": {
        "id": "xPFyRogo7qiU",
        "colab_type": "text"
      },
      "cell_type": "markdown",
      "source": [
        "**3. Connecting to Google Drive**\n",
        "\n",
        "It loads the drive package from Google Colab and mounts the gdrive\n",
        "\n",
        "While mounting, the could asks you to authorize the Colab to access the GDrive. Authorization token generates when you click on the url and that needs to fed into the text box in output column."
      ]
    },
    {
      "metadata": {
        "id": "q-gSeZ4L8EI6",
        "colab_type": "code",
        "colab": {
          "base_uri": "https://localhost:8080/",
          "height": 122
        },
        "outputId": "263f14a2-69a4-4231-d861-b2ebef00f6ee"
      },
      "cell_type": "code",
      "source": [
        "from google.colab import drive as dr\n",
        "dr.mount('/content/gdrive')"
      ],
      "execution_count": 6,
      "outputs": [
        {
          "output_type": "stream",
          "text": [
            "Go to this URL in a browser: https://accounts.google.com/o/oauth2/auth?client_id=947318989803-6bn6qk8qdgf4n4g3pfee6491hc0brc4i.apps.googleusercontent.com&redirect_uri=urn%3Aietf%3Awg%3Aoauth%3A2.0%3Aoob&scope=email%20https%3A%2F%2Fwww.googleapis.com%2Fauth%2Fdocs.test%20https%3A%2F%2Fwww.googleapis.com%2Fauth%2Fdrive%20https%3A%2F%2Fwww.googleapis.com%2Fauth%2Fdrive.photos.readonly%20https%3A%2F%2Fwww.googleapis.com%2Fauth%2Fpeopleapi.readonly&response_type=code\n",
            "\n",
            "Enter your authorization code:\n",
            "··········\n",
            "Mounted at /content/gdrive\n"
          ],
          "name": "stdout"
        }
      ]
    },
    {
      "metadata": {
        "id": "0h3BFuH49Cpu",
        "colab_type": "text"
      },
      "cell_type": "markdown",
      "source": [
        "**Helper Functions:**\n",
        "1. Load Image names to List:\n",
        "It loads all images from input file to a Python List Datastructure\n"
      ]
    },
    {
      "metadata": {
        "id": "44GJgHPO9UXX",
        "colab_type": "code",
        "colab": {}
      },
      "cell_type": "code",
      "source": [
        "def loadImageNamesToList(file_name):\n",
        "    the_return_list = []\n",
        "    if os.path.exists(file_name):\n",
        "        f = open(file_name,\"r\")\n",
        "        for each_line in f:\n",
        "            if each_line.rstrip() is not \"\":\n",
        "                print(each_line)\n",
        "                the_return_list.append(each_line.rstrip())\n",
        "\n",
        "    return the_return_list"
      ],
      "execution_count": 0,
      "outputs": []
    },
    {
      "metadata": {
        "id": "QHEqLXJj9bCw",
        "colab_type": "text"
      },
      "cell_type": "markdown",
      "source": [
        "2. Writing the given text to a file"
      ]
    },
    {
      "metadata": {
        "id": "tEpmiMpB9-RN",
        "colab_type": "code",
        "colab": {}
      },
      "cell_type": "code",
      "source": [
        "def writeToFile(file_name,text_to_write):\n",
        "        f = open(file_name,\"a+\")\n",
        "        f.write(text_to_write + \"\\n\")\n",
        "        f.close()"
      ],
      "execution_count": 0,
      "outputs": []
    },
    {
      "metadata": {
        "id": "bs5TILR_-XWR",
        "colab_type": "text"
      },
      "cell_type": "markdown",
      "source": [
        "3. Generate the fully qualified Url:\n",
        "\n",
        "Generating the fully qualified url of image to hit the AEM server. This code assumes all images will be stored under a folder that formed through the name of image."
      ]
    },
    {
      "metadata": {
        "id": "CLGPRT9w-wTe",
        "colab_type": "code",
        "colab": {}
      },
      "cell_type": "code",
      "source": [
        "def imagePath(ser,image,imgExt):\n",
        "    parent = image[-2:]\n",
        "    damPath = prodPath+parent+\"/\"+image+\"/\"+image+imgExt\n",
        "    return ser+damPath"
      ],
      "execution_count": 0,
      "outputs": []
    },
    {
      "metadata": {
        "id": "3bp5R3ec8yoO",
        "colab_type": "text"
      },
      "cell_type": "markdown",
      "source": [
        "**4. Creating Folder and Storing images in Google Drive**"
      ]
    },
    {
      "metadata": {
        "id": "oNNVQBev83Ww",
        "colab_type": "code",
        "colab": {}
      },
      "cell_type": "code",
      "source": [
        "def storeImages(url,creds,folderName):\n",
        "    if not os.path.exists(folderName):\n",
        "        os.makedirs(folderName) # Creates Folder in GDrive\n",
        "    filePath = folderName+\"/\"+url[url.rfind(\"/\")+1:] # This path is GDrive Image path\n",
        "    if not os.path.exists(filePath): # If image is not there in GDrive Already\n",
        "        fileVal = readAEMData(url,creds)\n",
        "        if fileVal: # If it is a valid Image\n",
        "            output = open(folderName+\"/\"+url[url.rfind(\"/\")+1:],'wb') # Creates a file stream in GDrive\n",
        "            output.write(fileVal) #Writing the Image Downloaded\n",
        "            output.close()\n",
        "    else:\n",
        "        print(\"File Exists:\"+filePath) # If image already Exists, write that to file"
      ],
      "execution_count": 0,
      "outputs": []
    },
    {
      "metadata": {
        "id": "i7J7zzi9AO7B",
        "colab_type": "text"
      },
      "cell_type": "markdown",
      "source": [
        "**5. Main function to Download All images**"
      ]
    },
    {
      "metadata": {
        "id": "cSMAtjJDASU6",
        "colab_type": "code",
        "colab": {}
      },
      "cell_type": "code",
      "source": [
        "import time\n",
        "def downloadImages(pathFile,server_url):\n",
        "    imageList = loadImageNamesToList(pathFile)\n",
        "    processedImages = loadImageNamesToList(\"Images_processed.txt\")\n",
        "    for image in imageList:\n",
        "        if image not in processedImages:\n",
        "            damPath = imagePath(server_url,isbn,\".jpg\")\n",
        "            storeImages(damPath,creds,\"/content/gdrive/Team Drives/allImagesAutomate\")\n",
        "            time.sleep(1)\n",
        "            writeToFile(\"Images_processed.txt\",isbn)"
      ],
      "execution_count": 0,
      "outputs": []
    },
    {
      "metadata": {
        "id": "gc_7w4fsBHUO",
        "colab_type": "code",
        "colab": {}
      },
      "cell_type": "code",
      "source": [
        ""
      ],
      "execution_count": 0,
      "outputs": []
    }
  ]
}